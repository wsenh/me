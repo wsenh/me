{
  "nbformat": 4,
  "nbformat_minor": 0,
  "metadata": {
    "colab": {
      "name": "mosaic.ipynb",
      "provenance": [],
      "collapsed_sections": []
    },
    "kernelspec": {
      "name": "python3",
      "display_name": "Python 3"
    }
  },
  "cells": [
    {
      "cell_type": "code",
      "metadata": {
        "colab": {
          "base_uri": "https://localhost:8080/"
        },
        "id": "5b9VWndhCmtc",
        "outputId": "278df3f4-da4f-47bf-8d9a-3b9d361c59ab"
      },
      "source": [
        "from google.colab import drive\r\n",
        "drive.mount('/content/gdrive')"
      ],
      "execution_count": 1,
      "outputs": [
        {
          "output_type": "stream",
          "text": [
            "Drive already mounted at /content/gdrive; to attempt to forcibly remount, call drive.mount(\"/content/gdrive\", force_remount=True).\n"
          ],
          "name": "stdout"
        }
      ]
    },
    {
      "cell_type": "code",
      "metadata": {
        "id": "lrQVF6duKjPR"
      },
      "source": [
        "from PIL import Image\r\n",
        "import os\r\n",
        "import math"
      ],
      "execution_count": 2,
      "outputs": []
    },
    {
      "cell_type": "code",
      "metadata": {
        "colab": {
          "base_uri": "https://localhost:8080/"
        },
        "id": "xBEpeZ-jIA0i",
        "outputId": "4a2b4364-3cf0-4c2a-be6c-533634d262ec"
      },
      "source": [
        "# Make sure to create an assets folder in your Google Drive, and have all\r\n",
        "# the source images in the assets/source folder and the output folder created\r\n",
        "assert os.path.exists('/content/gdrive/MyDrive/assets')\r\n",
        "assert os.path.exists('/content/gdrive/MyDrive/assets/source')\r\n",
        "assert os.path.exists('/content/gdrive/MyDrive/assets/output')\r\n",
        "%cd '/content/gdrive/MyDrive/assets'"
      ],
      "execution_count": 3,
      "outputs": [
        {
          "output_type": "stream",
          "text": [
            "/content/gdrive/MyDrive/assets\n"
          ],
          "name": "stdout"
        }
      ]
    },
    {
      "cell_type": "code",
      "metadata": {
        "id": "H05k24exMiQC"
      },
      "source": [
        "def get_avg_color(img):\r\n",
        "    sum0 = 0\r\n",
        "    sum1 = 0\r\n",
        "    sum2 = 0\r\n",
        "    data = img.getdata()\r\n",
        "    length = len(data)\r\n",
        "    for i in range(length):\r\n",
        "        sum0 += data[i][0]\r\n",
        "        sum1 += data[i][1]\r\n",
        "        sum2 += data[i][2]\r\n",
        "    return sum0 / length, sum1 / length, sum2 / length"
      ],
      "execution_count": 4,
      "outputs": []
    },
    {
      "cell_type": "code",
      "metadata": {
        "id": "FlfKh-ByODRT"
      },
      "source": [
        "def get_square_img(path, size, format='YCbCr'):\r\n",
        "    img = Image.open(path)\r\n",
        "\r\n",
        "    dim = min(img.width, img.height)\r\n",
        "    l = (img.width - dim) / 2\r\n",
        "    r = l + dim\r\n",
        "    u = (img.height - dim) / 2\r\n",
        "    d = u + dim\r\n",
        "\r\n",
        "    return img.crop((l, u, r, d)).resize(size).convert(format)"
      ],
      "execution_count": 5,
      "outputs": []
    },
    {
      "cell_type": "code",
      "metadata": {
        "id": "5uHnly4DdTkO"
      },
      "source": [
        "def color_dist(c1, c2):\r\n",
        "    return math.sqrt(\r\n",
        "        (c1[0] - c2[0]) ** 2 + \\\r\n",
        "        (c1[1] - c2[1]) ** 2 + \\\r\n",
        "        (c1[2] - c2[2]) ** 2)"
      ],
      "execution_count": 6,
      "outputs": []
    },
    {
      "cell_type": "code",
      "metadata": {
        "id": "jCGhbKYud7Y7"
      },
      "source": [
        "def find_min_dist(color, tiles):\r\n",
        "    best_i = 0\r\n",
        "    best_dist = math.inf\r\n",
        "    for i, tile in enumerate(tiles):\r\n",
        "        dist = color_dist(color, tile['color'])\r\n",
        "        if dist < best_dist:\r\n",
        "            best_dist = dist\r\n",
        "            best_i = i\r\n",
        "    return best_i"
      ],
      "execution_count": 7,
      "outputs": []
    },
    {
      "cell_type": "code",
      "metadata": {
        "id": "FayJRcj5geDP"
      },
      "source": [
        "def make_mosaic(img, tiles, format='YCbCr'):\r\n",
        "    tile_dim = tiles[0]['img'].width\r\n",
        "    dest = Image.new(format, (img.width, img.height))\r\n",
        "    data = img.getdata()\r\n",
        "\r\n",
        "    for i in range(0, img.width, tile_dim):\r\n",
        "        for j in range(0, img.height, tile_dim):\r\n",
        "            l = i\r\n",
        "            r = i + tile_dim\r\n",
        "            u = j\r\n",
        "            d = j + tile_dim\r\n",
        "            sub_img = img.crop((l, u, r, d))\r\n",
        "            \r\n",
        "            color = get_avg_color(sub_img)\r\n",
        "\r\n",
        "            best_tile_i = find_min_dist(color, tiles)\r\n",
        "            tile = tiles[best_tile_i]\r\n",
        "            dest.paste(tile['img'], (i, j))\r\n",
        "    return dest"
      ],
      "execution_count": 8,
      "outputs": []
    },
    {
      "cell_type": "code",
      "metadata": {
        "id": "4UV8PUjHvSRV"
      },
      "source": [
        "# Configurations\r\n",
        "SOURCE_IMG_DIM = 16  # the dimension of the source images\r\n",
        "OUTPUT_IMG_RATIO = 64  # the ratio of output image dimension to source image dimension\r\n",
        "FORMAT = 'YCbCr'  # The comparison format"
      ],
      "execution_count": 9,
      "outputs": []
    },
    {
      "cell_type": "code",
      "metadata": {
        "id": "HILBiYWHaUYP",
        "colab": {
          "base_uri": "https://localhost:8080/"
        },
        "outputId": "9e5747bf-1a8f-47ec-a3c3-1084d4434ceb"
      },
      "source": [
        "tiles = []\r\n",
        "\r\n",
        "for (dirpath, _, filenames) in os.walk('source'):\r\n",
        "    for filename in filenames:\r\n",
        "        path = os.path.join(dirpath, filename)\r\n",
        "        img = get_square_img(path, (SOURCE_IMG_DIM, SOURCE_IMG_DIM), FORMAT)\r\n",
        "        tiles.append({ \"color\": get_avg_color(img), \"img\": img })\r\n",
        "len(tiles)"
      ],
      "execution_count": 10,
      "outputs": [
        {
          "output_type": "execute_result",
          "data": {
            "text/plain": [
              "30"
            ]
          },
          "metadata": {
            "tags": []
          },
          "execution_count": 10
        }
      ]
    },
    {
      "cell_type": "code",
      "metadata": {
        "id": "NhRT8Co6hNGg"
      },
      "source": [
        "for (dirpath, _, filenames) in os.walk('source'):\r\n",
        "    for filename in filenames:\r\n",
        "        path = os.path.join(dirpath, filename)\r\n",
        "        target = Image.open(path).resize((SOURCE_IMG_DIM*OUTPUT_IMG_RATIO,SOURCE_IMG_DIM*OUTPUT_IMG_RATIO)).convert(FORMAT)\r\n",
        "        res = make_mosaic(target, tiles).convert('RGB')\r\n",
        "        res.save(os.path.join('output', filename))"
      ],
      "execution_count": 11,
      "outputs": []
    },
    {
      "cell_type": "code",
      "metadata": {
        "id": "uOJhiRkfi3xT"
      },
      "source": [
        ""
      ],
      "execution_count": 11,
      "outputs": []
    }
  ]
}