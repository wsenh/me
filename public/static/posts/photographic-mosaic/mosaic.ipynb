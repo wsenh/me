{
  "nbformat": 4,
  "nbformat_minor": 0,
  "metadata": {
    "colab": {
      "name": "mosaic.ipynb",
      "provenance": [],
      "collapsed_sections": []
    },
    "kernelspec": {
      "name": "python3",
      "display_name": "Python 3"
    }
  },
  "cells": [
    {
      "cell_type": "code",
      "metadata": {
        "colab": {
          "base_uri": "https://localhost:8080/"
        },
        "id": "5b9VWndhCmtc",
        "outputId": "cefb56f5-e77b-486c-8507-fbb8694ca2cd"
      },
      "source": [
        "from google.colab import drive\r\n",
        "drive.mount('/content/gdrive')"
      ],
      "execution_count": 1,
      "outputs": [
        {
          "output_type": "stream",
          "text": [
            "Drive already mounted at /content/gdrive; to attempt to forcibly remount, call drive.mount(\"/content/gdrive\", force_remount=True).\n"
          ],
          "name": "stdout"
        }
      ]
    },
    {
      "cell_type": "code",
      "metadata": {
        "id": "lrQVF6duKjPR"
      },
      "source": [
        "from PIL import Image\r\n",
        "import os\r\n",
        "import math"
      ],
      "execution_count": 2,
      "outputs": []
    },
    {
      "cell_type": "code",
      "metadata": {
        "colab": {
          "base_uri": "https://localhost:8080/"
        },
        "id": "xBEpeZ-jIA0i",
        "outputId": "6ff7a30e-c921-4524-8236-57404dae7aeb"
      },
      "source": [
        "# Make sure to create an assets folder in your Google Drive, and have all\r\n",
        "# the source images in the assets/source folder and the output folder created\r\n",
        "assert os.path.exists('/content/gdrive/MyDrive/assets')\r\n",
        "assert os.path.exists('/content/gdrive/MyDrive/assets/source')\r\n",
        "assert os.path.exists('/content/gdrive/MyDrive/assets/output')\r\n",
        "%cd '/content/gdrive/MyDrive/assets'"
      ],
      "execution_count": 3,
      "outputs": [
        {
          "output_type": "stream",
          "text": [
            "/content/gdrive/MyDrive/assets\n"
          ],
          "name": "stdout"
        }
      ]
    },
    {
      "cell_type": "code",
      "metadata": {
        "id": "FlfKh-ByODRT"
      },
      "source": [
        "def crop_square_img(path, output_dim):\r\n",
        "    \"\"\"\r\n",
        "    Args:\r\n",
        "        path: The path to the image\r\n",
        "        output_dim: The final image dimension\r\n",
        "    \"\"\"\r\n",
        "    img = Image.open(path)\r\n",
        "\r\n",
        "    # Crop along the minimum axis of the image\r\n",
        "    dim = min(img.width, img.height)\r\n",
        "\r\n",
        "    # Compute the crop boundary\r\n",
        "    left = (img.width - dim) / 2\r\n",
        "    right = left + dim\r\n",
        "    up = (img.height - dim) / 2\r\n",
        "    down = up + dim\r\n",
        "\r\n",
        "    return img.crop((left, up, right, down)).resize((output_dim, output_dim))"
      ],
      "execution_count": 4,
      "outputs": []
    },
    {
      "cell_type": "code",
      "metadata": {
        "id": "H05k24exMiQC"
      },
      "source": [
        "def get_avg_color(img):\r\n",
        "    \"\"\"\r\n",
        "    Averaging all the pixels value in the image on 3 channels\r\n",
        "\r\n",
        "    Args:\r\n",
        "        img: The pillow image object\r\n",
        "    \"\"\"\r\n",
        "    sum0 = 0\r\n",
        "    sum1 = 0\r\n",
        "    sum2 = 0\r\n",
        "\r\n",
        "    # The channel data of each pixel as [(c1,c2,c3), ..., (c1,c2,c3)]\r\n",
        "    data = img.getdata()\r\n",
        "\r\n",
        "    length = len(data)\r\n",
        "    for i in range(length):\r\n",
        "        sum0 += data[i][0]\r\n",
        "        sum1 += data[i][1]\r\n",
        "        sum2 += data[i][2]\r\n",
        "\r\n",
        "    return sum0 / length, sum1 / length, sum2 / length"
      ],
      "execution_count": 5,
      "outputs": []
    },
    {
      "cell_type": "code",
      "metadata": {
        "id": "5uHnly4DdTkO"
      },
      "source": [
        "def euclidean_distance(c1, c2):\r\n",
        "    \"\"\"\r\n",
        "    The Euclidean distance of two colors\r\n",
        "\r\n",
        "    Args:\r\n",
        "        c1: Color 1\r\n",
        "        c2: Color 2\r\n",
        "    \"\"\"\r\n",
        "    return math.sqrt(\r\n",
        "        (c1[0] - c2[0]) ** 2 + \\\r\n",
        "        (c1[1] - c2[1]) ** 2 + \\\r\n",
        "        (c1[2] - c2[2]) ** 2)"
      ],
      "execution_count": 6,
      "outputs": []
    },
    {
      "cell_type": "code",
      "metadata": {
        "id": "jCGhbKYud7Y7"
      },
      "source": [
        "def find_min_dist_i(color, tiles):\r\n",
        "    \"\"\"\r\n",
        "    Find the minimum distance tile of the given color\r\n",
        "\r\n",
        "    Args:\r\n",
        "        color: The color\r\n",
        "        tiles: Available tiles\r\n",
        "    \"\"\"\r\n",
        "    best_i = 0\r\n",
        "    best_dist = math.inf\r\n",
        "    for i, tile in enumerate(tiles):\r\n",
        "        dist = euclidean_distance(color, tile['color'])\r\n",
        "        if dist < best_dist:\r\n",
        "            best_dist = dist\r\n",
        "            best_i = i\r\n",
        "    return best_i"
      ],
      "execution_count": 7,
      "outputs": []
    },
    {
      "cell_type": "code",
      "metadata": {
        "id": "FayJRcj5geDP"
      },
      "source": [
        "def make_mosaic(img, tiles, color_space='YCbCr'):\r\n",
        "    \"\"\"\r\n",
        "    Produce mosaic image\r\n",
        "\r\n",
        "    Args:\r\n",
        "        img: The target image\r\n",
        "        tiles: The available tiles\r\n",
        "        color_space: The image color space\r\n",
        "    \"\"\"\r\n",
        "    # Make sure we have at least 1 tile in the tile set\r\n",
        "    assert len(tiles) > 0\r\n",
        "\r\n",
        "    # Assume we have the same dimension for all the tiles\r\n",
        "    tile_dim = tiles[0]['img'].width\r\n",
        "\r\n",
        "    dest = Image.new(color_space, (img.width, img.height))\r\n",
        "    data = img.getdata()\r\n",
        "\r\n",
        "    for i in range(0, img.width, tile_dim):\r\n",
        "        for j in range(0, img.height, tile_dim):\r\n",
        "            # Crop a small area for color comparison\r\n",
        "            left = i\r\n",
        "            right = left + tile_dim\r\n",
        "            up = j\r\n",
        "            down = up + tile_dim\r\n",
        "            sub_img = img.crop((left, up, right, down))\r\n",
        "\r\n",
        "            color = get_avg_color(sub_img)\r\n",
        "\r\n",
        "            best_tile_i = find_min_dist_i(color, tiles)\r\n",
        "            tile = tiles[best_tile_i]\r\n",
        "\r\n",
        "            # Paste the tile image to final image\r\n",
        "            dest.paste(tile['img'], (i, j))\r\n",
        "\r\n",
        "    return dest"
      ],
      "execution_count": 8,
      "outputs": []
    },
    {
      "cell_type": "code",
      "metadata": {
        "id": "4UV8PUjHvSRV"
      },
      "source": [
        "# Configurations\r\n",
        "SOURCE_IMG_DIM = 16  # the dimension of the source images\r\n",
        "OUTPUT_IMG_RATIO = 64  # the ratio of output image dimension to source image dimension\r\n",
        "COLOR_SPACE = 'YCbCr'  # The comparison color space"
      ],
      "execution_count": 9,
      "outputs": []
    },
    {
      "cell_type": "code",
      "metadata": {
        "id": "HILBiYWHaUYP"
      },
      "source": [
        "\"\"\"\r\n",
        "Create tiles\r\n",
        "\"\"\"\r\n",
        "tiles = []\r\n",
        "\r\n",
        "for (dirpath, _, filenames) in os.walk('source'):\r\n",
        "    for filename in filenames:\r\n",
        "        path = os.path.join(dirpath, filename)\r\n",
        "        img = crop_square_img(path, SOURCE_IMG_DIM).convert(COLOR_SPACE)\r\n",
        "        tiles.append({ \"color\": get_avg_color(img), \"img\": img })"
      ],
      "execution_count": 10,
      "outputs": []
    },
    {
      "cell_type": "code",
      "metadata": {
        "id": "NhRT8Co6hNGg"
      },
      "source": [
        "\"\"\"\r\n",
        "Generate Photographic Mosaic for each source image\r\n",
        "\"\"\"\r\n",
        "FINAL_DIM = SOURCE_IMG_DIM * OUTPUT_IMG_RATIO\r\n",
        "for (dirpath, _, filenames) in os.walk('source'):\r\n",
        "    for filename in filenames:\r\n",
        "        path = os.path.join(dirpath, filename)\r\n",
        "        target = crop_square_img(path, FINAL_DIM).convert(COLOR_SPACE)\r\n",
        "        res = make_mosaic(target, tiles).convert('RGB')\r\n",
        "        res.save(os.path.join('output', filename))"
      ],
      "execution_count": 11,
      "outputs": []
    }
  ]
}